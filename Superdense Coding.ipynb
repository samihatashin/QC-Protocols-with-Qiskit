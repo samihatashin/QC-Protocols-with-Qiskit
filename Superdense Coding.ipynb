{
 "cells": [
  {
   "cell_type": "markdown",
   "id": "f889ed56",
   "metadata": {},
   "source": [
    "<div style=\"text-align: center; margin: 50px\">\n",
    "\n",
    "<h1 style=\"text-align: center;\">Superdense Coding</h1>\n",
    "\n",
    "</div>"
   ]
  },
  {
   "cell_type": "markdown",
   "id": "7c0e822c",
   "metadata": {},
   "source": [
    "### Overview:\n",
    "[Importing Necessary Libraries and Provider](#part1)<br><br>\n",
    "[Superdense Coding](#sdc)<br>\n",
    "   1. [Steps Involved](#sdc_1)<br>\n",
    "     a.[Preparation](#sdc1)<br>\n",
    "     b.[Seperation](#sdc2)<br>\n",
    "     c.[Encoding](#sdc3)<br>\n",
    "     d.[Transmission](#sdc4)<br> \n",
    "     e.[Decoding](#sdc5)<br>\n",
    "   2. [The Complete Protocol](#sdc_2)<br><br>\n"
   ]
  },
  {
   "cell_type": "code",
   "execution_count": 1,
   "id": "0cb7d1ae",
   "metadata": {},
   "outputs": [],
   "source": [
    "import numpy as np\n",
    "from qiskit import QuantumCircuit, execute, Aer, IBMQ, QuantumRegister, ClassicalRegister\n",
    "from qiskit.compiler import transpile, assemble\n",
    "from qiskit.providers.ibmq import least_busy\n",
    "from qiskit.tools.monitor import job_monitor\n",
    "from qiskit_textbook.tools import array_to_latex, random_state\n",
    "from qiskit.tools.jupyter import *\n",
    "from qiskit.visualization import *\n",
    "from ibm_quantum_widgets import *\n",
    "from qiskit_textbook.tools import random_state, array_to_latex\n",
    "import qiskit as q\n",
    "%matplotlib inline"
   ]
  },
  {
   "cell_type": "markdown",
   "id": "c4b24a40",
   "metadata": {},
   "source": [
    "<a id = 'sdc'></a>\n",
    "## Superdense Coding:"
   ]
  },
  {
   "cell_type": "markdown",
   "id": "aece3cf0",
   "metadata": {},
   "source": [
    "<a id = 'sdc_1'></a>\n",
    "### Steps Involved\n",
    "#### 5 steps:\n",
    "**1. Preparation:** Prepare $ |\\phi^+\\rangle : \\frac{1}{\\sqrt2}\\big(|00\\rangle + |11\\rangle\\big) $ (by convention) state; split the two pair among sender and receiver. <br><br>\n",
    "**2. Transport:** Sender physically moves away with h(is/er) pair of entangled qubit. <br><br>\n",
    "**3. Encoding:** Sender encodes classical bits of information to h(is/er) pair of qubit. <br><br>\n",
    "**4. Transmission:** Sender transmits h(is/er) qubit to receiver. <br><br>\n",
    "**5. Decoding:** Receiver decodes and measures h(is/er) qubit to retrieve sender's classical state. <br> "
   ]
  },
  {
   "cell_type": "markdown",
   "id": "aa5efd99",
   "metadata": {},
   "source": [
    "<a id = 'sdc1'></a>\n",
    "#### Preparation"
   ]
  },
  {
   "cell_type": "code",
   "execution_count": 2,
   "id": "387649bb",
   "metadata": {},
   "outputs": [],
   "source": [
    "def preparation(qc):\n",
    "    qc.h(0)\n",
    "    qc.cx(0,1)"
   ]
  },
  {
   "cell_type": "markdown",
   "id": "d126bb89",
   "metadata": {},
   "source": [
    "<a id = 'sdc2'></a>\n",
    "#### Seperation"
   ]
  },
  {
   "cell_type": "code",
   "execution_count": 3,
   "id": "5acb7b65",
   "metadata": {},
   "outputs": [],
   "source": [
    "## Sender takes q0 and receiver takes q1, they travel far apart.\n",
    "\n",
    "def seperation(qc):\n",
    "    qc.barrier()"
   ]
  },
  {
   "cell_type": "markdown",
   "id": "3bc1bece",
   "metadata": {},
   "source": [
    "<a id = 'sdc3'></a>\n",
    "#### Encoding\n",
    "\n",
    "| Intended Message | Gate Sender Applies | Resulting State |\n",
    "|:----------------:|:--------------------------:|:---------------:|\n",
    "| 00 | $$I$$ | $$\\tfrac{1}{\\sqrt{2}}\\big(|00\\rangle+|11\\rangle\\big)=|\\Phi^+\\rangle$$ |\n",
    "| 10 | $$X$$ | $$\\tfrac{1}{\\sqrt{2}}\\big(|01\\rangle+|10\\rangle\\big)=|\\Psi^+\\rangle$$ |\n",
    "| 01 | $$Z$$ | $$\\tfrac{1}{\\sqrt{2}}\\big(|00\\rangle-|11\\rangle\\big)=|\\Phi^-\\rangle$$ |\n",
    "| 11 | $$X\\cdot Z$$ | $$\\tfrac{1}{\\sqrt{2}}\\big(-|01\\rangle+|10\\rangle\\big)=-|\\Psi^-\\rangle$$ |\n",
    "\n",
    "(By convention)"
   ]
  },
  {
   "cell_type": "code",
   "execution_count": 4,
   "id": "36a03a80",
   "metadata": {},
   "outputs": [],
   "source": [
    "## Sender can manipulate h(is/er) part of entangled qubits to encode 2 bits of classical information\n",
    "\n",
    "# def encoding(qc, message):\n",
    "#     message = input('Enter your intended message from 00, 01, 10 and 11:  ')\n",
    "#     if message == '00':\n",
    "#         pass\n",
    "#     elif message == '01':\n",
    "#         qc.z(0)\n",
    "#     elif message == '10':\n",
    "#         qc.x(0)\n",
    "#     elif message == '11':\n",
    "#         qc.x(0)\n",
    "#         qc.z(0)\n",
    "#     else:\n",
    "#         print('Invalid message: Sending '00'.')\n",
    "\n",
    "def state_00(qc):\n",
    "    pass\n",
    "\n",
    "def state_01(qc):\n",
    "    qc.z(0)\n",
    "\n",
    "def state_10(qc):\n",
    "    qc.x(0)\n",
    "    \n",
    "def state_11(qc):\n",
    "    qc.x(0)\n",
    "    qc.z(0)\n",
    "\n",
    "def encoding(qc):\n",
    "    message = input('Enter your intended message from 00, 01, 10 and 11 :   ')\n",
    "    if message == '00':\n",
    "        state_00(qc)\n",
    "    elif message == '01':\n",
    "        state_01(qc)\n",
    "    elif message == '10':\n",
    "        state_10(qc)\n",
    "    elif message == '11':\n",
    "        state_11(qc)\n",
    "    else:\n",
    "        print('Invalid message: Sending 00')"
   ]
  },
  {
   "cell_type": "markdown",
   "id": "2f672a91",
   "metadata": {},
   "source": [
    "<a id = 'sdc4'></a>\n",
    "#### Transmission"
   ]
  },
  {
   "cell_type": "code",
   "execution_count": 5,
   "id": "b9cac81c",
   "metadata": {},
   "outputs": [],
   "source": [
    "## Sender sends h(is/er) encoded qubit physically to receiver.\n",
    "def transmission(qc):\n",
    "    qc.barrier()"
   ]
  },
  {
   "cell_type": "markdown",
   "id": "dc7693fe",
   "metadata": {},
   "source": [
    "<a id = 'sdc5'></a>\n",
    "#### Decoding\n",
    "\n",
    "| Receiver Receives | After CNOT gate | After H gate | Classical bits after measurement\n",
    "|:------------:|:----------------:|:------------:|:------------:|\n",
    "| $$|00\\rangle+|11\\rangle$$ | $$|00\\rangle+|01\\rangle$$ | $$|00\\rangle$$ | 00 |\n",
    "| $$|01\\rangle+|10\\rangle$$ | $$|11\\rangle+|10\\rangle$$ | $$|10\\rangle$$ | 10 |\n",
    "| $$|00\\rangle-|11\\rangle$$ | $$|00\\rangle-|01\\rangle$$ | $$|01\\rangle$$ | 01 |\n",
    "| $$-|01\\rangle+|10\\rangle$$ | $$-|11\\rangle+|10\\rangle$$ | $$-|11\\rangle$$ | 11 |\n",
    "\n"
   ]
  },
  {
   "cell_type": "code",
   "execution_count": 6,
   "id": "a78bada6",
   "metadata": {},
   "outputs": [],
   "source": [
    "## Receiver bell-measures their qubits to retreive the encoded classical bits information:\n",
    "\n",
    "def bell_measure(qc):\n",
    "    qc.cx(0,1)\n",
    "    qc.h(0)\n",
    "    qc.measure(range(2),range(2))\n",
    "    display(qc.draw('mpl'))\n",
    "## Retrieving Information:\n",
    "    backend_sim = Aer.get_backend('statevector_simulator')\n",
    "#     backend_real_qc = least_busy(provider.backends(filters = lambda x: x.configuration().n_qubits >= 2\n",
    "#                                           and not x.configuration().simulator\n",
    "#                                           and x.status().operational == True))\n",
    "#     print(\"Running on: \", backend_real_qc)\n",
    "#     job = execute(qc,backend_real_qc)\n",
    "    job = execute(qc,backend_sim)\n",
    "    result = job.result()\n",
    "    counts = result.get_counts(qc)\n",
    "    received = dict([(value,key) for key,value in counts.items()])\n",
    "    print('Message received: {} '.format(received[1]))\n",
    "    display(plot_histogram(counts))"
   ]
  },
  {
   "cell_type": "markdown",
   "id": "0673d5f5",
   "metadata": {},
   "source": [
    "<a id = 'sdc_2'></a>\n",
    "### Superdense Coding: The Complete Protocol"
   ]
  },
  {
   "cell_type": "code",
   "execution_count": 7,
   "id": "1c7fc7e5",
   "metadata": {},
   "outputs": [
    {
     "name": "stdout",
     "output_type": "stream",
     "text": [
      "Enter your intended message from 00, 01, 10 and 11 :   11\n"
     ]
    },
    {
     "data": {
      "image/png": "[encoded data removed]",
      "text/plain": [
       "<Figure size 628.252x204.68 with 1 Axes>"
      ]
     },
     "metadata": {},
     "output_type": "display_data"
    },
    {
     "name": "stdout",
     "output_type": "stream",
     "text": [
      "Message received: 11 \n"
     ]
    },
    {
     "data": {
      "image/png": "[encoded data removed]",
      "text/plain": [
       "<Figure size 504x360 with 1 Axes>"
      ]
     },
     "metadata": {},
     "output_type": "display_data"
    },
    {
     "data": {
      "image/png": "[encoded data removed]",
      "text/plain": [
       "<Figure size 628.252x204.68 with 1 Axes>"
      ]
     },
     "metadata": {},
     "output_type": "display_data"
    },
    {
     "data": {
      "image/png": "[encoded data removed]",
      "text/plain": [
       "<Figure size 504x360 with 1 Axes>"
      ]
     },
     "metadata": {
      "needs_background": "light"
     },
     "output_type": "display_data"
    }
   ],
   "source": [
    "## Initializing:\n",
    "qc_test = QuantumCircuit(2,2)\n",
    "\n",
    "## Preparing entangled state:\n",
    "preparation(qc_test)\n",
    "\n",
    "## Sender Receiver moves apart:\n",
    "seperation(qc_test)\n",
    "\n",
    "## Sender encodes h(is/er) qubit according to intended 2 bits of classical information:\n",
    "encoding(qc_test)\n",
    "\n",
    "## Sender transmits h(is/er) encoded qubit physically to receiver:\n",
    "transmission(qc_test)\n",
    "\n",
    "# Receiver performs bell-measurement on both qubits to retrieve the encoded 2 bits of information:\n",
    "bell_measure(qc_test)"
   ]
  }
 ],
 "metadata": {
  "kernelspec": {
   "display_name": "Python 3",
   "language": "python",
   "name": "python3"
  },
  "language_info": {
   "codemirror_mode": {
    "name": "ipython",
    "version": 3
   },
   "file_extension": ".py",
   "mimetype": "text/x-python",
   "name": "python",
   "nbconvert_exporter": "python",
   "pygments_lexer": "ipython3",
   "version": "3.8.10"
  }
 },
 "nbformat": 4,
 "nbformat_minor": 5
}
